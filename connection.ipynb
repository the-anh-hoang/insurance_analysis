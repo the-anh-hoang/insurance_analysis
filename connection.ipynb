{
 "cells": [
  {
   "cell_type": "code",
   "execution_count": 1,
   "metadata": {},
   "outputs": [],
   "source": [
    "import oracledb\n",
    "import pandas as pd"
   ]
  },
  {
   "cell_type": "code",
   "execution_count": 3,
   "metadata": {},
   "outputs": [
    {
     "name": "stdout",
     "output_type": "stream",
     "text": [
      "/opt/anaconda3/bin/python\n"
     ]
    }
   ],
   "source": [
    "!which python"
   ]
  },
  {
   "cell_type": "code",
   "execution_count": 8,
   "metadata": {},
   "outputs": [
    {
     "name": "stdout",
     "output_type": "stream",
     "text": [
      "Connected!\n"
     ]
    }
   ],
   "source": [
    "\n",
    "dsn = oracledb.makedsn(\"dbhost.students.cs.ubc.ca\", 1522, service_name=\"stu\")\n",
    "connection = oracledb.connect(user=\"ora_ahoang05\", password=\"a44232551\", dsn=dsn)\n",
    "print(\"Connected!\")\n",
    "\n"
   ]
  },
  {
   "cell_type": "code",
   "execution_count": 9,
   "metadata": {},
   "outputs": [],
   "source": [
    "cursor = connection.cursor()"
   ]
  },
  {
   "cell_type": "code",
   "execution_count": 10,
   "metadata": {},
   "outputs": [
    {
     "data": {
      "text/html": [
       "<div>\n",
       "<style scoped>\n",
       "    .dataframe tbody tr th:only-of-type {\n",
       "        vertical-align: middle;\n",
       "    }\n",
       "\n",
       "    .dataframe tbody tr th {\n",
       "        vertical-align: top;\n",
       "    }\n",
       "\n",
       "    .dataframe thead th {\n",
       "        text-align: right;\n",
       "    }\n",
       "</style>\n",
       "<table border=\"1\" class=\"dataframe\">\n",
       "  <thead>\n",
       "    <tr style=\"text-align: right;\">\n",
       "      <th></th>\n",
       "      <th>0</th>\n",
       "      <th>1</th>\n",
       "      <th>2</th>\n",
       "      <th>3</th>\n",
       "      <th>4</th>\n",
       "      <th>5</th>\n",
       "      <th>6</th>\n",
       "      <th>7</th>\n",
       "      <th>8</th>\n",
       "      <th>9</th>\n",
       "      <th>...</th>\n",
       "      <th>12</th>\n",
       "      <th>13</th>\n",
       "      <th>14</th>\n",
       "      <th>15</th>\n",
       "      <th>16</th>\n",
       "      <th>17</th>\n",
       "      <th>18</th>\n",
       "      <th>19</th>\n",
       "      <th>20</th>\n",
       "      <th>21</th>\n",
       "    </tr>\n",
       "  </thead>\n",
       "  <tbody>\n",
       "    <tr>\n",
       "      <th>0</th>\n",
       "      <td>1980</td>\n",
       "      <td>253.2</td>\n",
       "      <td>232.7</td>\n",
       "      <td>214.3</td>\n",
       "      <td>100.5</td>\n",
       "      <td>64.5</td>\n",
       "      <td>47.7</td>\n",
       "      <td>3.5</td>\n",
       "      <td>13.3</td>\n",
       "      <td>8.4</td>\n",
       "      <td>...</td>\n",
       "      <td>23.2</td>\n",
       "      <td>12.0</td>\n",
       "      <td>4.1</td>\n",
       "      <td>7.1</td>\n",
       "      <td>2.8</td>\n",
       "      <td>9.1</td>\n",
       "      <td>6.4</td>\n",
       "      <td>20.6</td>\n",
       "      <td>5.4</td>\n",
       "      <td>15.1</td>\n",
       "    </tr>\n",
       "    <tr>\n",
       "      <th>1</th>\n",
       "      <td>1990</td>\n",
       "      <td>718.7</td>\n",
       "      <td>670.2</td>\n",
       "      <td>611.9</td>\n",
       "      <td>250.4</td>\n",
       "      <td>207.9</td>\n",
       "      <td>159.0</td>\n",
       "      <td>17.3</td>\n",
       "      <td>31.6</td>\n",
       "      <td>23.8</td>\n",
       "      <td>...</td>\n",
       "      <td>72.5</td>\n",
       "      <td>40.3</td>\n",
       "      <td>13.8</td>\n",
       "      <td>18.5</td>\n",
       "      <td>7.2</td>\n",
       "      <td>31.1</td>\n",
       "      <td>20.0</td>\n",
       "      <td>48.6</td>\n",
       "      <td>12.7</td>\n",
       "      <td>35.9</td>\n",
       "    </tr>\n",
       "    <tr>\n",
       "      <th>2</th>\n",
       "      <td>2000</td>\n",
       "      <td>1366.0</td>\n",
       "      <td>1280.3</td>\n",
       "      <td>1156.5</td>\n",
       "      <td>415.5</td>\n",
       "      <td>387.0</td>\n",
       "      <td>288.2</td>\n",
       "      <td>36.6</td>\n",
       "      <td>62.1</td>\n",
       "      <td>63.5</td>\n",
       "      <td>...</td>\n",
       "      <td>173.2</td>\n",
       "      <td>122.0</td>\n",
       "      <td>26.0</td>\n",
       "      <td>25.2</td>\n",
       "      <td>17.2</td>\n",
       "      <td>63.6</td>\n",
       "      <td>43.0</td>\n",
       "      <td>85.7</td>\n",
       "      <td>25.5</td>\n",
       "      <td>60.2</td>\n",
       "    </tr>\n",
       "    <tr>\n",
       "      <th>3</th>\n",
       "      <td>2001</td>\n",
       "      <td>1483.4</td>\n",
       "      <td>1393.4</td>\n",
       "      <td>1256.5</td>\n",
       "      <td>449.4</td>\n",
       "      <td>420.7</td>\n",
       "      <td>312.7</td>\n",
       "      <td>40.3</td>\n",
       "      <td>67.7</td>\n",
       "      <td>69.5</td>\n",
       "      <td>...</td>\n",
       "      <td>192.0</td>\n",
       "      <td>140.6</td>\n",
       "      <td>25.3</td>\n",
       "      <td>26.1</td>\n",
       "      <td>19.7</td>\n",
       "      <td>70.4</td>\n",
       "      <td>46.8</td>\n",
       "      <td>90.0</td>\n",
       "      <td>28.5</td>\n",
       "      <td>61.5</td>\n",
       "    </tr>\n",
       "    <tr>\n",
       "      <th>4</th>\n",
       "      <td>2002</td>\n",
       "      <td>1631.0</td>\n",
       "      <td>1529.6</td>\n",
       "      <td>1365.5</td>\n",
       "      <td>486.5</td>\n",
       "      <td>454.7</td>\n",
       "      <td>337.7</td>\n",
       "      <td>43.3</td>\n",
       "      <td>73.6</td>\n",
       "      <td>76.0</td>\n",
       "      <td>...</td>\n",
       "      <td>217.4</td>\n",
       "      <td>159.8</td>\n",
       "      <td>29.6</td>\n",
       "      <td>27.9</td>\n",
       "      <td>22.7</td>\n",
       "      <td>89.1</td>\n",
       "      <td>52.2</td>\n",
       "      <td>101.5</td>\n",
       "      <td>32.0</td>\n",
       "      <td>69.4</td>\n",
       "    </tr>\n",
       "  </tbody>\n",
       "</table>\n",
       "<p>5 rows × 22 columns</p>\n",
       "</div>"
      ],
      "text/plain": [
       "     0       1       2       3      4      5      6     7     8     9   ...  \\\n",
       "0  1980   253.2   232.7   214.3  100.5   64.5   47.7   3.5  13.3   8.4  ...   \n",
       "1  1990   718.7   670.2   611.9  250.4  207.9  159.0  17.3  31.6  23.8  ...   \n",
       "2  2000  1366.0  1280.3  1156.5  415.5  387.0  288.2  36.6  62.1  63.5  ...   \n",
       "3  2001  1483.4  1393.4  1256.5  449.4  420.7  312.7  40.3  67.7  69.5  ...   \n",
       "4  2002  1631.0  1529.6  1365.5  486.5  454.7  337.7  43.3  73.6  76.0  ...   \n",
       "\n",
       "      12     13    14    15    16    17    18     19    20    21  \n",
       "0   23.2   12.0   4.1   7.1   2.8   9.1   6.4   20.6   5.4  15.1  \n",
       "1   72.5   40.3  13.8  18.5   7.2  31.1  20.0   48.6  12.7  35.9  \n",
       "2  173.2  122.0  26.0  25.2  17.2  63.6  43.0   85.7  25.5  60.2  \n",
       "3  192.0  140.6  25.3  26.1  19.7  70.4  46.8   90.0  28.5  61.5  \n",
       "4  217.4  159.8  29.6  27.9  22.7  89.1  52.2  101.5  32.0  69.4  \n",
       "\n",
       "[5 rows x 22 columns]"
      ]
     },
     "execution_count": 10,
     "metadata": {},
     "output_type": "execute_result"
    }
   ],
   "source": [
    "query = \"\"\"\n",
    "SELECT * \n",
    "FROM ExpendituresByType\n",
    "\"\"\"\n",
    "cursor.execute(query)\n",
    "data = cursor.fetchall()\n",
    "df = pd.DataFrame(data)\n",
    "df.head()\n"
   ]
  },
  {
   "cell_type": "code",
   "execution_count": 4,
   "metadata": {},
   "outputs": [],
   "source": [
    "connection.close()"
   ]
  },
  {
   "cell_type": "code",
   "execution_count": null,
   "metadata": {},
   "outputs": [],
   "source": []
  }
 ],
 "metadata": {
  "kernelspec": {
   "display_name": "Python 3 (ipykernel)",
   "language": "python",
   "name": "python3"
  },
  "language_info": {
   "codemirror_mode": {
    "name": "ipython",
    "version": 3
   },
   "file_extension": ".py",
   "mimetype": "text/x-python",
   "name": "python",
   "nbconvert_exporter": "python",
   "pygments_lexer": "ipython3",
   "version": "3.12.2"
  }
 },
 "nbformat": 4,
 "nbformat_minor": 4
}
